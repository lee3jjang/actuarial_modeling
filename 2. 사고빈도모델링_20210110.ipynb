{
 "cells": [
  {
   "cell_type": "markdown",
   "metadata": {},
   "source": [
    "### 사고빈도 모델링\n",
    "##### 가상의 사고건수 데이터를 Poisson 분포로 피팅(fitting) 해보기\n",
    "* .csv 파일 불러오기\n",
    "* 데이터 시각화: histogram, bar plot\n",
    "* 피팅 (.fit)\n",
    "* 확률 계산 (.pmf)\n",
    "* 몬테카를로 시뮬레이션 (.rvs)\n",
    "* 간단한 numpy 기능"
   ]
  },
  {
   "cell_type": "code",
   "execution_count": 1,
   "metadata": {},
   "outputs": [],
   "source": [
    "# 모듈 불러오기\n",
    "import numpy as np\n",
    "import matplotlib.pyplot as plt"
   ]
  },
  {
   "cell_type": "code",
   "execution_count": 2,
   "metadata": {},
   "outputs": [],
   "source": [
    "# 데이터 불러오기\n",
    "num_of_claims = np.loadtxt('data/num_of_claims.csv', delimiter=',')"
   ]
  },
  {
   "cell_type": "code",
   "execution_count": 3,
   "metadata": {},
   "outputs": [
    {
     "data": {
      "image/png": "[encoded data removed]",
      "text/plain": [
       "<Figure size 936x288 with 2 Axes>"
      ]
     },
     "metadata": {
      "needs_background": "light"
     },
     "output_type": "display_data"
    }
   ],
   "source": [
    "fig, ax = plt.subplots(1, 2, figsize=(13, 4))\n",
    "\n",
    "# 막대 그래프 그리기 (1)\n",
    "ax[0].bar(\n",
    "    x=np.arange(2016, 2021),\n",
    "    height=num_of_claims[:, 0],\n",
    "    color='red',\n",
    "    label='earned premium',\n",
    "    alpha=0.6,\n",
    ")\n",
    "\n",
    "ax[0].spines['top'].set_visible(False)\n",
    "ax[0].spines['right'].set_visible(False)\n",
    "ax[0].legend()\n",
    "ax[0].set_title('Earned Premium by FY', fontsize=13, fontweight='bold')\n",
    "ax[0].grid(b=True, axis='y', linestyle='-', linewidth=0.3)\n",
    "\n",
    "\n",
    "# 막대 그래프 그리기 (2)\n",
    "ax[1].bar(\n",
    "    x=range(2016, 2021),\n",
    "    height=num_of_claims[:, 1],\n",
    "    color='blue',\n",
    "    label='number of claims',\n",
    "    alpha=0.6,\n",
    ")\n",
    "\n",
    "ax[1].spines['top'].set_visible(False)\n",
    "ax[1].spines['right'].set_visible(False)\n",
    "ax[1].legend()\n",
    "ax[1].set_title('Number of Claims by AY', fontsize=13, fontweight='bold')\n",
    "ax[1].grid(b=True, axis='y', linestyle='-', linewidth=0.3)\n",
    "\n",
    "plt.show()"
   ]
  },
  {
   "cell_type": "code",
   "execution_count": null,
   "metadata": {},
   "outputs": [],
   "source": [
    "# 모수 추정\n",
    "from scipy.stats import poisson\n",
    "\n",
    "np.random.seed(20210110)\n",
    "exposure, total_claims = num_of_claims[:, 0].sum(), num_of_claims[:, 1].sum()\n",
    "lambda_ = total_claims/exposure\n",
    "\n",
    "print(f'Poisson dist. 추정모수: λ={lambda_*1e6:.2f}e-6')"
   ]
  },
  {
   "cell_type": "code",
   "execution_count": null,
   "metadata": {},
   "outputs": [],
   "source": [
    "# 막대 그래프 그리기\n",
    "width = 0.4\n",
    "\n",
    "plt.bar(\n",
    "    x=np.arange(2016, 2021)-width/2,\n",
    "    height=num_of_claims[:, 1],\n",
    "    color='blue',\n",
    "    label='data',\n",
    "    alpha=0.6,\n",
    "    width=width,\n",
    "    align='center',\n",
    ")\n",
    "\n",
    "plt.bar(\n",
    "    x=np.arange(2016, 2021)+width/2,\n",
    "    height=num_of_claims[:, 0]*lambda_,\n",
    "    color='green',\n",
    "    label='expected(model)',\n",
    "    alpha=0.5,\n",
    "    width=width,\n",
    "    align='center',\n",
    ")\n",
    "\n",
    "plt.gca().spines['top'].set_visible(False)\n",
    "plt.gca().spines['right'].set_visible(False)\n",
    "plt.legend()\n",
    "plt.title('Number of Claims by AY', fontsize=13, fontweight='bold')\n",
    "plt.grid(b=True, axis='y', linestyle='-', linewidth=0.3)\n",
    "\n",
    "plt.show()"
   ]
  },
  {
   "cell_type": "code",
   "execution_count": null,
   "metadata": {},
   "outputs": [],
   "source": [
    "# pmf(probability mass function) 시각화\n",
    "unearned_premium = 5000000\n",
    "freq_model_poisson_unearned = poisson(mu=lambda_*unearned_premium)\n",
    "n = np.arange(30)\n",
    "px = freq_model_poisson_unearned.pmf(n)\n",
    "\n",
    "plt.bar(x=n, height=px, label='$p_{n}$')\n",
    "\n",
    "plt.gca().spines['top'].set_visible(False)\n",
    "plt.gca().spines['right'].set_visible(False)\n",
    "plt.gca().spines['left'].set_visible(False)\n",
    "\n",
    "plt.legend()\n",
    "plt.show()"
   ]
  },
  {
   "cell_type": "code",
   "execution_count": null,
   "metadata": {},
   "outputs": [],
   "source": [
    "# 몬테카를로 시뮬레이션\n",
    "num_of_claim_generated = freq_model_poisson_unearned.rvs(20000)\n",
    "\n",
    "plt.hist(x=num_of_claim_generated, bins=100, density=True, color='darkmagenta', label='simulation', alpha=0.5)\n",
    "plt.xlabel(f'number of claims (for premium : {unearned_premium})')\n",
    "\n",
    "plt.gca().spines['top'].set_visible(False)\n",
    "plt.gca().spines['right'].set_visible(False)\n",
    "plt.gca().spines['left'].set_visible(False)\n",
    "\n",
    "plt.legend()\n",
    "plt.show()"
   ]
  }
 ],
 "metadata": {
  "kernelspec": {
   "display_name": "Python 3",
   "language": "python",
   "name": "python3"
  },
  "language_info": {
   "codemirror_mode": {
    "name": "ipython",
    "version": 3
   },
   "file_extension": ".py",
   "mimetype": "text/x-python",
   "name": "python",
   "nbconvert_exporter": "python",
   "pygments_lexer": "ipython3",
   "version": "3.7.6"
  }
 },
 "nbformat": 4,
 "nbformat_minor": 4
}
