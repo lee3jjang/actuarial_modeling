{
 "cells": [
  {
   "cell_type": "code",
   "execution_count": 1,
   "metadata": {},
   "outputs": [],
   "source": [
    "# 모듈 불러오기\n",
    "import numpy as np\n",
    "from scipy.stats import gamma, poisson"
   ]
  },
  {
   "cell_type": "code",
   "execution_count": 2,
   "metadata": {},
   "outputs": [],
   "source": [
    "# 빈도 모델\n",
    "expected_premium = 1000000\n",
    "lambda_ = 3.48e-6\n",
    "freq_model = poisson(mu=expected_premium*lambda_)\n",
    "\n",
    "# 심도 모델\n",
    "a, mu, sigma = 13.9, 6059.4, 10388.3\n",
    "sev_model = gamma(a=a, loc=mu, scale=sigma)"
   ]
  },
  {
   "cell_type": "code",
   "execution_count": 3,
   "metadata": {},
   "outputs": [
    {
     "data": {
      "text/plain": [
       "array([1, 3, 3, 6, 1, 4, 8, 2, 5, 3, 1, 3, 4, 5, 5, 4, 3, 4, 2, 3, 2, 4,\n",
       "       4, 5, 3, 4, 1, 3, 2, 5, 5, 5, 2, 3, 1, 4, 7, 3, 3, 2, 3, 6, 1, 7,\n",
       "       8, 6, 3, 2, 3, 5, 1, 3, 1, 2, 5, 5, 5, 5, 1, 7, 4, 2, 5, 4, 3, 2,\n",
       "       9, 6, 4, 3, 7, 9, 4, 4, 6, 2, 1, 3, 2, 1, 3, 2, 3, 2, 3, 2, 5, 3,\n",
       "       3, 3, 2, 2, 2, 4, 3, 5, 1, 1, 5, 2])"
      ]
     },
     "execution_count": 3,
     "metadata": {},
     "output_type": "execute_result"
    }
   ],
   "source": [
    "# 빈도 난수 생성\n",
    "freq_sample = freq_model.rvs(100)\n",
    "freq_sample"
   ]
  },
  {
   "cell_type": "code",
   "execution_count": 4,
   "metadata": {},
   "outputs": [
    {
     "name": "stdout",
     "output_type": "stream",
     "text": [
      "시나리오 시뮬레이션 결과 (i=43)\n",
      "1. 원수보험료 : 1,000,000원\n",
      "2. 사고건수 : 7건\n",
      "3. 총손해액 : 1,045,750원\n",
      "4. 손해율 : 104.6%\n"
     ]
    }
   ],
   "source": [
    "# 심도 난수 생성\n",
    "i = 43\n",
    "f = freq_sample[i]\n",
    "loss_per_claim = sev_model.rvs(f)\n",
    "total_loss = loss_per_claim.sum()\n",
    "\n",
    "print(f'시나리오 시뮬레이션 결과 (i={i})')\n",
    "print(f'1. 원수보험료 : {expected_premium:,.0f}원')\n",
    "print(f'2. 사고건수 : {f}건')\n",
    "print(f'3. 총손해액 : {total_loss:,.0f}원')\n",
    "print(f'4. 손해율 : {total_loss/expected_premium:,.1%}')"
   ]
  },
  {
   "cell_type": "code",
   "execution_count": 5,
   "metadata": {},
   "outputs": [],
   "source": [
    "# 빈도·심도 난수 생성\n",
    "np.random.seed(20210110)\n",
    "freq_sample = freq_model.rvs(10000)\n",
    "total_loss_sample = np.array([sev_model.rvs(f).sum() for f in freq_sample])\n",
    "result = np.c_[freq_sample, total_loss_sample]"
   ]
  },
  {
   "cell_type": "code",
   "execution_count": 6,
   "metadata": {},
   "outputs": [],
   "source": [
    "# 결과 내보내기\n",
    "import os\n",
    "if not any([s == 'result' for s in os.listdir('.')]): os.mkdir('result')\n",
    "np.savetxt(f'result/simulation_result.csv', result, delimiter=',')"
   ]
  }
 ],
 "metadata": {
  "kernelspec": {
   "display_name": "Python 3",
   "language": "python",
   "name": "python3"
  },
  "language_info": {
   "codemirror_mode": {
    "name": "ipython",
    "version": 3
   },
   "file_extension": ".py",
   "mimetype": "text/x-python",
   "name": "python",
   "nbconvert_exporter": "python",
   "pygments_lexer": "ipython3",
   "version": "3.7.6"
  }
 },
 "nbformat": 4,
 "nbformat_minor": 4
}
